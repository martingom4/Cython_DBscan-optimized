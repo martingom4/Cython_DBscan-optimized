{
 "cells": [
  {
   "cell_type": "code",
   "execution_count": null,
   "id": "5e6a5075",
   "metadata": {},
   "outputs": [],
   "source": [
    "import os, sys\n",
    "project_root = os.path.abspath(\"../..\")       # ajusta según dónde esté el notebook\n",
    "if project_root not in sys.path:\n",
    "    sys.path.insert(0, project_root)\n",
    "\n",
    "# Importa tu módulo compilado\n",
    "from cython_dbscan.dbscan_core import dbscan"
   ]
  },
  {
   "cell_type": "code",
   "execution_count": 4,
   "id": "a3d77ceb",
   "metadata": {},
   "outputs": [
    {
     "data": {
      "text/html": [
       "<div>\n",
       "<style scoped>\n",
       "    .dataframe tbody tr th:only-of-type {\n",
       "        vertical-align: middle;\n",
       "    }\n",
       "\n",
       "    .dataframe tbody tr th {\n",
       "        vertical-align: top;\n",
       "    }\n",
       "\n",
       "    .dataframe thead th {\n",
       "        text-align: right;\n",
       "    }\n",
       "</style>\n",
       "<table border=\"1\" class=\"dataframe\">\n",
       "  <thead>\n",
       "    <tr style=\"text-align: right;\">\n",
       "      <th></th>\n",
       "      <th>mmsi</th>\n",
       "      <th>longitude</th>\n",
       "      <th>latitude</th>\n",
       "      <th>imo</th>\n",
       "      <th>vessel_name</th>\n",
       "      <th>callsign</th>\n",
       "      <th>vessel_type</th>\n",
       "      <th>vessel_type_cargo</th>\n",
       "      <th>length</th>\n",
       "      <th>width</th>\n",
       "      <th>destination</th>\n",
       "      <th>draught</th>\n",
       "      <th>sog</th>\n",
       "      <th>cog</th>\n",
       "      <th>heading</th>\n",
       "      <th>nav_status</th>\n",
       "      <th>dt_pos_utc</th>\n",
       "      <th>vessel_type_main</th>\n",
       "      <th>H3_int_index_15</th>\n",
       "      <th>res_8</th>\n",
       "    </tr>\n",
       "  </thead>\n",
       "  <tbody>\n",
       "    <tr>\n",
       "      <th>1172258</th>\n",
       "      <td>257600000.0</td>\n",
       "      <td>10.810000</td>\n",
       "      <td>55.746667</td>\n",
       "      <td>9854478</td>\n",
       "      <td>SYDSTRAUM</td>\n",
       "      <td>LAGH7</td>\n",
       "      <td>Tanker</td>\n",
       "      <td>Carrying DG,HS or MP,IMO hazard or Pollutant C...</td>\n",
       "      <td>129.0</td>\n",
       "      <td>20.0</td>\n",
       "      <td>FI HMN &gt; SE MMA</td>\n",
       "      <td>8.1</td>\n",
       "      <td>13.0</td>\n",
       "      <td>7.0</td>\n",
       "      <td>154.0</td>\n",
       "      <td>Under Way Using Engine</td>\n",
       "      <td>2021-01-01 00:00:50</td>\n",
       "      <td>None</td>\n",
       "      <td>644562452806690699</td>\n",
       "      <td>881f222c31fffff</td>\n",
       "    </tr>\n",
       "    <tr>\n",
       "      <th>1172259</th>\n",
       "      <td>257600000.0</td>\n",
       "      <td>10.810388</td>\n",
       "      <td>55.748605</td>\n",
       "      <td>9854478</td>\n",
       "      <td>SYDSTRAUM</td>\n",
       "      <td>LAGH7</td>\n",
       "      <td>Tanker</td>\n",
       "      <td>Carrying DG,HS or MP,IMO hazard or Pollutant C...</td>\n",
       "      <td>129.0</td>\n",
       "      <td>20.0</td>\n",
       "      <td>FI HMN &gt; SE MMA</td>\n",
       "      <td>8.1</td>\n",
       "      <td>13.4</td>\n",
       "      <td>6.6</td>\n",
       "      <td>8.0</td>\n",
       "      <td>Under Way Using Engine</td>\n",
       "      <td>2021-01-01 00:01:00</td>\n",
       "      <td>None</td>\n",
       "      <td>644562452806187528</td>\n",
       "      <td>881f222c31fffff</td>\n",
       "    </tr>\n",
       "    <tr>\n",
       "      <th>1172260</th>\n",
       "      <td>259372000.0</td>\n",
       "      <td>24.117868</td>\n",
       "      <td>57.007650</td>\n",
       "      <td>9118496</td>\n",
       "      <td>CHRISTINA</td>\n",
       "      <td>LIJG3</td>\n",
       "      <td>Tanker</td>\n",
       "      <td>No Additional Information</td>\n",
       "      <td>124.0</td>\n",
       "      <td>20.0</td>\n",
       "      <td>LV RIX</td>\n",
       "      <td>5.6</td>\n",
       "      <td>0.0</td>\n",
       "      <td>316.9</td>\n",
       "      <td>47.0</td>\n",
       "      <td>Moored</td>\n",
       "      <td>2021-01-01 00:01:05</td>\n",
       "      <td>Oil And Chemical Tanker</td>\n",
       "      <td>644566704828286749</td>\n",
       "      <td>881f600c35fffff</td>\n",
       "    </tr>\n",
       "    <tr>\n",
       "      <th>1172261</th>\n",
       "      <td>257550000.0</td>\n",
       "      <td>0.562263</td>\n",
       "      <td>54.127452</td>\n",
       "      <td>9854466</td>\n",
       "      <td>SALTSTRAUM</td>\n",
       "      <td>LAJU6</td>\n",
       "      <td>Tanker</td>\n",
       "      <td>Carrying DG,HS or MP,IMO hazard or Pollutant C...</td>\n",
       "      <td>129.0</td>\n",
       "      <td>20.0</td>\n",
       "      <td>ANTWERP</td>\n",
       "      <td>6.0</td>\n",
       "      <td>13.7</td>\n",
       "      <td>136.3</td>\n",
       "      <td>138.0</td>\n",
       "      <td>Under Way Using Engine</td>\n",
       "      <td>2021-01-01 00:01:14</td>\n",
       "      <td>None</td>\n",
       "      <td>644459251375659225</td>\n",
       "      <td>88194464e7fffff</td>\n",
       "    </tr>\n",
       "    <tr>\n",
       "      <th>1172262</th>\n",
       "      <td>257550000.0</td>\n",
       "      <td>0.561667</td>\n",
       "      <td>54.126667</td>\n",
       "      <td>9854466</td>\n",
       "      <td>SALTSTRAUM</td>\n",
       "      <td>LAJU6</td>\n",
       "      <td>Tanker</td>\n",
       "      <td>Carrying DG,HS or MP,IMO hazard or Pollutant C...</td>\n",
       "      <td>129.0</td>\n",
       "      <td>20.0</td>\n",
       "      <td>ANTWERP</td>\n",
       "      <td>6.0</td>\n",
       "      <td>13.0</td>\n",
       "      <td>136.0</td>\n",
       "      <td>0.0</td>\n",
       "      <td>Under Way Using Engine</td>\n",
       "      <td>2021-01-01 00:01:17</td>\n",
       "      <td>None</td>\n",
       "      <td>644459251374645290</td>\n",
       "      <td>88194464e7fffff</td>\n",
       "    </tr>\n",
       "  </tbody>\n",
       "</table>\n",
       "</div>"
      ],
      "text/plain": [
       "                mmsi  longitude   latitude      imo vessel_name callsign  \\\n",
       "1172258  257600000.0  10.810000  55.746667  9854478   SYDSTRAUM    LAGH7   \n",
       "1172259  257600000.0  10.810388  55.748605  9854478   SYDSTRAUM    LAGH7   \n",
       "1172260  259372000.0  24.117868  57.007650  9118496   CHRISTINA    LIJG3   \n",
       "1172261  257550000.0   0.562263  54.127452  9854466  SALTSTRAUM    LAJU6   \n",
       "1172262  257550000.0   0.561667  54.126667  9854466  SALTSTRAUM    LAJU6   \n",
       "\n",
       "        vessel_type                                  vessel_type_cargo  \\\n",
       "1172258      Tanker  Carrying DG,HS or MP,IMO hazard or Pollutant C...   \n",
       "1172259      Tanker  Carrying DG,HS or MP,IMO hazard or Pollutant C...   \n",
       "1172260      Tanker                          No Additional Information   \n",
       "1172261      Tanker  Carrying DG,HS or MP,IMO hazard or Pollutant C...   \n",
       "1172262      Tanker  Carrying DG,HS or MP,IMO hazard or Pollutant C...   \n",
       "\n",
       "         length  width      destination  draught   sog    cog  heading  \\\n",
       "1172258   129.0   20.0  FI HMN > SE MMA      8.1  13.0    7.0    154.0   \n",
       "1172259   129.0   20.0  FI HMN > SE MMA      8.1  13.4    6.6      8.0   \n",
       "1172260   124.0   20.0           LV RIX      5.6   0.0  316.9     47.0   \n",
       "1172261   129.0   20.0          ANTWERP      6.0  13.7  136.3    138.0   \n",
       "1172262   129.0   20.0          ANTWERP      6.0  13.0  136.0      0.0   \n",
       "\n",
       "                     nav_status          dt_pos_utc         vessel_type_main  \\\n",
       "1172258  Under Way Using Engine 2021-01-01 00:00:50                     None   \n",
       "1172259  Under Way Using Engine 2021-01-01 00:01:00                     None   \n",
       "1172260                  Moored 2021-01-01 00:01:05  Oil And Chemical Tanker   \n",
       "1172261  Under Way Using Engine 2021-01-01 00:01:14                     None   \n",
       "1172262  Under Way Using Engine 2021-01-01 00:01:17                     None   \n",
       "\n",
       "            H3_int_index_15            res_8  \n",
       "1172258  644562452806690699  881f222c31fffff  \n",
       "1172259  644562452806187528  881f222c31fffff  \n",
       "1172260  644566704828286749  881f600c35fffff  \n",
       "1172261  644459251375659225  88194464e7fffff  \n",
       "1172262  644459251374645290  88194464e7fffff  "
      ]
     },
     "execution_count": 4,
     "metadata": {},
     "output_type": "execute_result"
    }
   ],
   "source": [
    "import numpy as np\n",
    "import pandas as pd\n",
    "import json\n",
    "import matplotlib.pyplot as plt\n",
    "from src.Segmenter_v2.Segmenter import build_matrix_from_res8\n",
    "import matplotlib.cm as cm\n",
    "\n",
    "df = pd.read_parquet('../../Data/sample_jan_2021.parquet')\n",
    "df.head()"
   ]
  },
  {
   "cell_type": "code",
   "execution_count": 5,
   "id": "ff7acaae",
   "metadata": {},
   "outputs": [],
   "source": [
    "columnas_requeridas = {\"res_8 \", \"H3_int_index_15\",\"Longitude\", \"Latitude\"}\n",
    "conteo = df.groupby('res_8')[\"H3_int_index_15\"].count().reset_index(name =\"cantidad de puntos\")\n",
    "res8_top= conteo.sort_values(\"cantidad de puntos\", ascending=False).iloc[0][\"res_8\"]\n",
    "# Filtrar todos los puntos de esa celda\n",
    "df_filtrado = df[df[\"res_8\"] == res8_top][[\"res_8\", \"H3_int_index_15\", \"latitude\", \"longitude\"]].copy()"
   ]
  },
  {
   "cell_type": "code",
   "execution_count": 6,
   "id": "09a690e6",
   "metadata": {},
   "outputs": [
    {
     "data": {
      "text/plain": [
       "(1903, 4)"
      ]
     },
     "execution_count": 6,
     "metadata": {},
     "output_type": "execute_result"
    }
   ],
   "source": [
    "df_filtrado.shape"
   ]
  },
  {
   "cell_type": "code",
   "execution_count": 7,
   "id": "c05870a2",
   "metadata": {},
   "outputs": [
    {
     "data": {
      "text/html": [
       "<div>\n",
       "<style scoped>\n",
       "    .dataframe tbody tr th:only-of-type {\n",
       "        vertical-align: middle;\n",
       "    }\n",
       "\n",
       "    .dataframe tbody tr th {\n",
       "        vertical-align: top;\n",
       "    }\n",
       "\n",
       "    .dataframe thead th {\n",
       "        text-align: right;\n",
       "    }\n",
       "</style>\n",
       "<table border=\"1\" class=\"dataframe\">\n",
       "  <thead>\n",
       "    <tr style=\"text-align: right;\">\n",
       "      <th></th>\n",
       "      <th>res_8</th>\n",
       "      <th>H3_int_index_15</th>\n",
       "      <th>latitude</th>\n",
       "      <th>longitude</th>\n",
       "    </tr>\n",
       "  </thead>\n",
       "  <tbody>\n",
       "    <tr>\n",
       "      <th>1246447</th>\n",
       "      <td>881f25d939fffff</td>\n",
       "      <td>644562705411233648</td>\n",
       "      <td>57.615135</td>\n",
       "      <td>10.618733</td>\n",
       "    </tr>\n",
       "    <tr>\n",
       "      <th>1246449</th>\n",
       "      <td>881f25d939fffff</td>\n",
       "      <td>644562705411213382</td>\n",
       "      <td>57.615000</td>\n",
       "      <td>10.618333</td>\n",
       "    </tr>\n",
       "    <tr>\n",
       "      <th>1246456</th>\n",
       "      <td>881f25d939fffff</td>\n",
       "      <td>644562705411213382</td>\n",
       "      <td>57.615000</td>\n",
       "      <td>10.618333</td>\n",
       "    </tr>\n",
       "    <tr>\n",
       "      <th>1246468</th>\n",
       "      <td>881f25d939fffff</td>\n",
       "      <td>644562705412588900</td>\n",
       "      <td>57.616515</td>\n",
       "      <td>10.619068</td>\n",
       "    </tr>\n",
       "    <tr>\n",
       "      <th>1246475</th>\n",
       "      <td>881f25d939fffff</td>\n",
       "      <td>644562705412606634</td>\n",
       "      <td>57.616900</td>\n",
       "      <td>10.619000</td>\n",
       "    </tr>\n",
       "  </tbody>\n",
       "</table>\n",
       "</div>"
      ],
      "text/plain": [
       "                   res_8     H3_int_index_15   latitude  longitude\n",
       "1246447  881f25d939fffff  644562705411233648  57.615135  10.618733\n",
       "1246449  881f25d939fffff  644562705411213382  57.615000  10.618333\n",
       "1246456  881f25d939fffff  644562705411213382  57.615000  10.618333\n",
       "1246468  881f25d939fffff  644562705412588900  57.616515  10.619068\n",
       "1246475  881f25d939fffff  644562705412606634  57.616900  10.619000"
      ]
     },
     "execution_count": 7,
     "metadata": {},
     "output_type": "execute_result"
    }
   ],
   "source": [
    "df_filtrado.head()"
   ]
  },
  {
   "cell_type": "code",
   "execution_count": 8,
   "id": "a0b20e24",
   "metadata": {},
   "outputs": [],
   "source": [
    "data_sample = build_matrix_from_res8(df_filtrado)"
   ]
  },
  {
   "cell_type": "code",
   "execution_count": 13,
   "id": "a0038f20",
   "metadata": {},
   "outputs": [
    {
     "data": {
      "text/plain": [
       "['/Users/martingom4/Documents/04.Archive/03.Cython_DBscan-optimized/Test/Test_v0.2/Data/data_sample.csv']"
      ]
     },
     "execution_count": 13,
     "metadata": {},
     "output_type": "execute_result"
    }
   ],
   "source": [
    "data_sample.to_csv('Data/data_sample.csv', index=False ,single_file=True)"
   ]
  },
  {
   "cell_type": "code",
   "execution_count": 18,
   "id": "9fcc668b",
   "metadata": {},
   "outputs": [],
   "source": [
    "\n",
    "from sklearn.cluster import DBSCAN\n",
    "# 1. Separar puntos con NaN\n",
    "sin_coordenadas = data_sample[data_sample[\"lat\"].isna() | data_sample[\"lon\"].isna()]\n",
    "\n",
    "# 2. Reemplazar NaN por 0 en lat/lon\n",
    "data_sample_pd = data_sample.compute()\n",
    "data_sample_pd[[\"lat\", \"lon\"]] = data_sample_pd[[\"lat\", \"lon\"]].fillna(0)\n",
    "\n",
    "# 3. Convertir a coordenadas\n",
    "coords = data_sample_pd[[\"lat\", \"lon\"]].to_numpy().astype(np.float64)\n",
    "coords_rad = np.radians(coords)\n",
    "\n",
    "# 4. Aplicar DBSCAN\n",
    "db = DBSCAN(eps=0.3 / 6371, min_samples=5, metric=\"haversine\").fit(coords_rad)\n",
    "data_sample_pd[\"cluster\"] = db.labels_\n",
    "\n",
    "# 5. Marcar los puntos que eran 0,0 como cluster -99\n",
    "data_sample_pd.loc[(data_sample_pd[\"lat\"] == 0) & (data_sample_pd[\"lon\"] == 0), \"cluster\"] = -99\n",
    "\n",
    "# 6. Exportar todo\n",
    "data_sample_pd.to_csv(\"data_sample_with_clusters.csv\", index=False)\n"
   ]
  },
  {
   "cell_type": "code",
   "execution_count": 21,
   "id": "c85de3ff",
   "metadata": {},
   "outputs": [
    {
     "data": {
      "image/png": "[encoded data removed]",
      "text/plain": [
       "<Figure size 1000x800 with 1 Axes>"
      ]
     },
     "metadata": {},
     "output_type": "display_data"
    }
   ],
   "source": [
    "\n",
    "\n",
    "# Cargar resultados\n",
    "df = pd.read_csv(\"data_sample_with_clusters.csv\")\n",
    "\n",
    "# Crear figura\n",
    "plt.figure(figsize=(10, 8))\n",
    "\n",
    "# Graficar por cluster\n",
    "for cluster_id in sorted(df[\"cluster\"].unique()):\n",
    "    cluster_data = df[df[\"cluster\"] == cluster_id]\n",
    "    label = f\"Cluster {cluster_id}\" if cluster_id != -1 else \"Ruido\"\n",
    "    plt.scatter(cluster_data[\"lon\"], cluster_data[\"lat\"], s=10, label=label)\n",
    "\n",
    "# Personalización\n",
    "plt.title(\"Clusters detectados con DBSCAN\")\n",
    "plt.xlabel(\"Longitud\")\n",
    "plt.ylabel(\"Latitud\")\n",
    "plt.legend(markerscale=2)\n",
    "plt.grid(True)\n",
    "plt.tight_layout()\n",
    "plt.show()"
   ]
  },
  {
   "cell_type": "code",
   "execution_count": 22,
   "id": "46817aba",
   "metadata": {},
   "outputs": [
    {
     "data": {
      "text/plain": [
       "cluster\n",
       " 1     1026\n",
       "-99       6\n",
       "Name: count, dtype: int64"
      ]
     },
     "execution_count": 22,
     "metadata": {},
     "output_type": "execute_result"
    }
   ],
   "source": [
    "data_sample_pd[\"cluster\"].value_counts()"
   ]
  }
 ],
 "metadata": {
  "kernelspec": {
   "display_name": "venv",
   "language": "python",
   "name": "python3"
  },
  "language_info": {
   "codemirror_mode": {
    "name": "ipython",
    "version": 3
   },
   "file_extension": ".py",
   "mimetype": "text/x-python",
   "name": "python",
   "nbconvert_exporter": "python",
   "pygments_lexer": "ipython3",
   "version": "3.10.17"
  }
 },
 "nbformat": 4,
 "nbformat_minor": 5
}
