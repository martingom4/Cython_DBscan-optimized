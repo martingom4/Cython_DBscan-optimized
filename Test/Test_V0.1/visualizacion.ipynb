{
 "cells": [
  {
   "cell_type": "code",
   "execution_count": 1,
   "id": "8544e383",
   "metadata": {},
   "outputs": [],
   "source": [
    "import pandas as pd\n",
    "import numpy as np"
   ]
  },
  {
   "cell_type": "code",
   "execution_count": 2,
   "id": "f5e6ff3e",
   "metadata": {},
   "outputs": [],
   "source": [
    "df = pd.read_parquet('../Data/sample_jan_2021.parquet')"
   ]
  },
  {
   "cell_type": "code",
   "execution_count": 4,
   "id": "3daca73a",
   "metadata": {},
   "outputs": [],
   "source": [
    "df1 = df.copy()"
   ]
  },
  {
   "cell_type": "code",
   "execution_count": 5,
   "id": "cc447418",
   "metadata": {},
   "outputs": [],
   "source": [
    "lats = df1['latitude'].to_numpy(dtype=np.float64)\n",
    "lons = df1['longitude'].to_numpy(dtype=np.float64)\n",
    "cells_ids = df1['res_8'].to_numpy"
   ]
  },
  {
   "cell_type": "code",
   "execution_count": 7,
   "id": "c37630f0",
   "metadata": {},
   "outputs": [],
   "source": [
    "DEG2RAD = np.pi / 180.0\n",
    "lats_rad = lats * DEG2RAD\n",
    "lons_rad = lons * DEG2RAD\n",
    "coords = np.vstack((lats_rad, lons_rad)).T   # shape (n,2)"
   ]
  }
 ],
 "metadata": {
  "kernelspec": {
   "display_name": "venv",
   "language": "python",
   "name": "python3"
  },
  "language_info": {
   "codemirror_mode": {
    "name": "ipython",
    "version": 3
   },
   "file_extension": ".py",
   "mimetype": "text/x-python",
   "name": "python",
   "nbconvert_exporter": "python",
   "pygments_lexer": "ipython3",
   "version": "3.10.17"
  }
 },
 "nbformat": 4,
 "nbformat_minor": 5
}
